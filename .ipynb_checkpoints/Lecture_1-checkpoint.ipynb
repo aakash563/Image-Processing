{
 "cells": [
  {
   "cell_type": "markdown",
   "id": "ca942fdf",
   "metadata": {},
   "source": [
    "# Here's a basic tutorial on image processing in Python using the OpenCV library:"
   ]
  },
  {
   "cell_type": "markdown",
   "id": "55318685",
   "metadata": {},
   "source": [
    "* Installing OpenCV\n",
    "    * Before starting, make sure you have OpenCV installed in your Python environment. \n",
    "    * You can install it using pip by running the following command in your terminal:"
   ]
  },
  {
   "cell_type": "code",
   "execution_count": null,
   "id": "18adfb3d",
   "metadata": {},
   "outputs": [],
   "source": [
    "# !pip install opencv-python"
   ]
  },
  {
   "cell_type": "markdown",
   "id": "e68cc8d8",
   "metadata": {},
   "source": [
    "* Reading and Displaying Images\n",
    "    * To read an image in Python, you can use the cv2.imread() function. \n",
    "    * This function takes the path of the image as its argument and returns an array of pixel values. \n",
    "    * Here's an example:"
   ]
  },
  {
   "cell_type": "code",
   "execution_count": 1,
   "id": "e2996b08",
   "metadata": {},
   "outputs": [],
   "source": [
    "import cv2"
   ]
  },
  {
   "cell_type": "code",
   "execution_count": 2,
   "id": "d6bef4d6",
   "metadata": {},
   "outputs": [],
   "source": [
    "# Read the image\n",
    "path = 'Image/aakash.jpg'\n",
    "img = cv2.imread(path)\n",
    "\n",
    "# Display the image\n",
    "cv2.imshow('Image',img)\n",
    "\n",
    "# Wait for key press and the  close the windows\n",
    "cv2.waitKey(0)\n",
    "cv2.destroyAllWindows()"
   ]
  },
  {
   "cell_type": "markdown",
   "id": "ae3cca84",
   "metadata": {},
   "source": [
    "* The cv2.imshow() function displays the image in a new window with the specified name. \n",
    "* The cv2.waitKey() function waits for a key press, and the cv2.destroyAllWindows() function closes all windows."
   ]
  },
  {
   "cell_type": "markdown",
   "id": "056c1602",
   "metadata": {},
   "source": [
    "* Converting Images to Grayscale\n",
    "    * To convert an image to grayscale in Python, you can use the cv2.cvtColor() function. \n",
    "    * This function takes the image and the color conversion code as its arguments. Here's an example:"
   ]
  },
  {
   "cell_type": "code",
   "execution_count": 3,
   "id": "4dca32a1",
   "metadata": {},
   "outputs": [],
   "source": [
    "import cv2\n",
    "\n",
    "# Read the image\n",
    "path = 'Image/aakash.jpg'\n",
    "img = cv2.imread(path)\n",
    "\n",
    "# Convert the image to grayscale\n",
    "gray_img = cv2.cvtColor(img,cv2.COLOR_BGR2GRAY)\n",
    "\n",
    "# Display the grayscale image\n",
    "cv2.imshow('Grayscale Image',gray_img)\n",
    "\n",
    "# Wait for a key press and then close the window\n",
    "cv2.waitKey(0)\n",
    "cv2.destroyAllWindows()"
   ]
  },
  {
   "cell_type": "markdown",
   "id": "ac61744d",
   "metadata": {},
   "source": [
    "* In this example, we first read the image using the cv2.imread() function. \n",
    "* We then convert it to grayscale using the cv2.cvtColor() function with the cv2.COLOR_BGR2GRAY conversion code. \n",
    "* Finally, we display the grayscale image using the cv2.imshow() function."
   ]
  },
  {
   "cell_type": "markdown",
   "id": "9f2be968",
   "metadata": {},
   "source": [
    "* Image Filtering\n",
    "    * To apply filters to an image in Python, you can use the cv2.filter2D() function. \n",
    "    * This function takes the image and the kernel as its arguments and returns the filtered image. \n",
    "    * Here's an example:"
   ]
  },
  {
   "cell_type": "code",
   "execution_count": 2,
   "id": "364e0e57",
   "metadata": {},
   "outputs": [],
   "source": [
    "import cv2\n",
    "import numpy as np"
   ]
  },
  {
   "cell_type": "code",
   "execution_count": 3,
   "id": "54ac8f7f",
   "metadata": {},
   "outputs": [],
   "source": [
    "# Read the image\n",
    "path = 'Image/aakash.jpg'\n",
    "img = cv2.imread(path)\n",
    "\n",
    "# Define the Kernel\n",
    "kernel = np.ones((5,5),np.float32)/25\n",
    "\n",
    "# Apply the filter\n",
    "filtered_img = cv2.filter2D(img,-1,kernel)\n",
    "\n",
    "# Display the filtered image\n",
    "cv2.imshow('Filtered Image',filtered_img)\n",
    "\n",
    "# Wait for a key press and then close the window\n",
    "cv2.waitKey(0)\n",
    "cv2.destroyAllWindows()"
   ]
  },
  {
   "cell_type": "markdown",
   "id": "5661fab4",
   "metadata": {},
   "source": [
    "* In this example, we first read the image using the cv2.imread() function. \n",
    "* We then define the kernel, which is a 5x5 matrix of ones divided by 25 to create a smoothing effect. \n",
    "* We apply the filter to the image using the cv2.filter2D() function and display the filtered image using the cv2.imshow() function."
   ]
  },
  {
   "cell_type": "markdown",
   "id": "a5224862",
   "metadata": {},
   "source": [
    "* Saving Images\n",
    "    * To save an image in Python, you can use the cv2.imwrite() function. \n",
    "    * This function takes the path of the image and the image array as its arguments and saves the image to the specified path. \n",
    "    * Here's an exampl"
   ]
  },
  {
   "cell_type": "code",
   "execution_count": 4,
   "id": "e36e4f07",
   "metadata": {},
   "outputs": [],
   "source": [
    "import cv2\n"
   ]
  },
  {
   "cell_type": "code",
   "execution_count": 5,
   "id": "de683307",
   "metadata": {},
   "outputs": [
    {
     "data": {
      "text/plain": [
       "True"
      ]
     },
     "execution_count": 5,
     "metadata": {},
     "output_type": "execute_result"
    }
   ],
   "source": [
    "# Read the image\n",
    "path = 'Image/aakash.jpg'\n",
    "img = cv2.imread(path)\n",
    "\n",
    "# Convert image to grayscale\n",
    "gray_img = cv2.cvtColor(img,cv2.COLOR_BGR2GRAY)\n",
    "\n",
    "# Save the gray image\n",
    "cv2.imwrite('Image/Gray_image.jpg',gray_img)"
   ]
  },
  {
   "cell_type": "markdown",
   "id": "806792bc",
   "metadata": {},
   "source": [
    "* **Image Thresholding**\n",
    "    * Thresholding is a basic operation in image processing that is used to separate an image into two parts based on a threshold value. \n",
    "    * In Python, you can use the cv2.threshold() function to perform image thresholding. \n",
    "    * This function takes the image, threshold value, max value, and threshold type as its arguments and returns a tuple containing the threshold value and the thresholded image. \n",
    "    * Here's an example:"
   ]
  },
  {
   "cell_type": "code",
   "execution_count": 6,
   "id": "c53fbe3f",
   "metadata": {},
   "outputs": [],
   "source": [
    "import cv2"
   ]
  },
  {
   "cell_type": "code",
   "execution_count": 7,
   "id": "7a9ad0f2",
   "metadata": {},
   "outputs": [],
   "source": [
    "# Read the image\n",
    "path = 'Image/aakash.jpg'\n",
    "img = cv2.imread(path)\n",
    "\n",
    "# Convert the image to grayscale\n",
    "gray_img = cv2.cvtColor(img,cv2.COLOR_BGR2GRAY)\n",
    "\n",
    "# Perform thresholding\n",
    "ret, thresh_img = cv2.threshold(gray_img,127,255,cv2.THRESH_BINARY)\n",
    "\n",
    "# Display the thresholding image\n",
    "cv2.imshow('Thresholded Image',thresh_img)\n",
    "\n",
    "# Wait for a key press and then close the window\n",
    "cv2.waitKey(0)\n",
    "cv2.destroyAllWindows()\n"
   ]
  },
  {
   "cell_type": "markdown",
   "id": "dd0f881a",
   "metadata": {},
   "source": [
    "* In this example, we first read the image and convert it to grayscale. \n",
    "* We then perform thresholding using the cv2.threshold() function with a threshold value of 127 and a max value of 255. \n",
    "* The threshold type cv2.THRESH_BINARY sets all pixel values above the threshold to the max value and all pixel values below the threshold to zero. \n",
    "* Finally, we display the thresholded image using the cv2.imshow() function."
   ]
  },
  {
   "cell_type": "markdown",
   "id": "4e43492c",
   "metadata": {},
   "source": [
    "* **Edge Detection**\n",
    "    * Edge detection is a technique used to detect the boundaries of objects in an image. \n",
    "    * In Python, you can use the cv2.Canny() function to perform edge detection. \n",
    "    * This function takes the image, min and max threshold values, and the aperture size as its arguments and returns the edge image. \n",
    "    * Here's an example:"
   ]
  },
  {
   "cell_type": "code",
   "execution_count": 8,
   "id": "2486a4de",
   "metadata": {},
   "outputs": [],
   "source": [
    "import cv2"
   ]
  },
  {
   "cell_type": "code",
   "execution_count": 9,
   "id": "71eecb77",
   "metadata": {},
   "outputs": [],
   "source": [
    "# Read the image\n",
    "path = 'Image/aakash.jpg'\n",
    "img = cv2.imread(path)\n",
    "\n",
    "# Convert the image to grayscale\n",
    "gray_img = cv2.cvtColor(img,cv2.COLOR_BGR2GRAY)\n",
    "\n",
    "# Perform the edge detection\n",
    "edges = cv2.Canny(gray_img,100,200)\n",
    "\n",
    "# Display the edge Image\n",
    "cv2.imshow('Edge Image',edges)\n",
    "\n",
    "# Wait for a key press and then close the window\n",
    "cv2.waitKey(0)\n",
    "cv2.destroyAllWindows()"
   ]
  },
  {
   "cell_type": "markdown",
   "id": "cee88c17",
   "metadata": {},
   "source": [
    "* In this example, we first read the image and convert it to grayscale. \n",
    "* We then perform edge detection using the cv2.Canny() function with min and max threshold values of 100 and 200, respectively, and an aperture size of 3.\n",
    "* Finally, we display the edge image using the cv2.imshow() function."
   ]
  },
  {
   "cell_type": "markdown",
   "id": "6e6e5a2d",
   "metadata": {},
   "source": [
    "* **Conclusion**\n",
    "    * In this tutorial, we covered the basics of image processing in Python using the OpenCV library. \n",
    "    * We learned how to read and display images, convert them to grayscale, apply filters, perform thresholding, and detect edges. \n",
    "    * These are just some of the many image processing techniques that you can use in your Python projects. \n",
    "    * With practice, you can become proficient in image processing and develop your own advanced techniques."
   ]
  }
 ],
 "metadata": {
  "kernelspec": {
   "display_name": "Python 3 (ipykernel)",
   "language": "python",
   "name": "python3"
  },
  "language_info": {
   "codemirror_mode": {
    "name": "ipython",
    "version": 3
   },
   "file_extension": ".py",
   "mimetype": "text/x-python",
   "name": "python",
   "nbconvert_exporter": "python",
   "pygments_lexer": "ipython3",
   "version": "3.8.0"
  }
 },
 "nbformat": 4,
 "nbformat_minor": 5
}
